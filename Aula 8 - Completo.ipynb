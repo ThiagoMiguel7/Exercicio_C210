{
 "cells": [
  {
   "cell_type": "markdown",
   "id": "d8883047",
   "metadata": {},
   "source": [
    "# PSO - Cornfield Vector "
   ]
  },
  {
   "cell_type": "markdown",
   "id": "4010d522",
   "metadata": {},
   "source": [
    "    - Simular geograficamente o comportamento das espécies\n",
    "    - Lembrança da melhor posição individual\n",
    "    - Lembrança da melhor posição global"
   ]
  },
  {
   "cell_type": "markdown",
   "id": "d7a9b06a",
   "metadata": {},
   "source": [
    "## Classe da função a ser minimizada"
   ]
  },
  {
   "cell_type": "markdown",
   "id": "ed119f3e",
   "metadata": {},
   "source": [
    "### Minimizar X^2 + Y^2"
   ]
  },
  {
   "cell_type": "code",
   "execution_count": 6,
   "id": "1c2eb310",
   "metadata": {},
   "outputs": [],
   "source": [
    "class Utils:\n",
    "    \n",
    "    def function(position):\n",
    "        '''\n",
    "        Calcula a distância euclidiana\n",
    "        '''\n",
    "        position = np.array(position)\n",
    "        result = (sum(position**2)/2)\n",
    "            \n",
    "        return result"
   ]
  },
  {
   "cell_type": "markdown",
   "id": "1aeefd41",
   "metadata": {},
   "source": [
    "## Classe das Partículas"
   ]
  },
  {
   "cell_type": "code",
   "execution_count": 2,
   "id": "ffe2785f",
   "metadata": {},
   "outputs": [],
   "source": [
    "import random\n",
    "import numpy as np\n",
    "\n",
    "class Particle:\n",
    "    '''\n",
    "    Construtor\n",
    "    '''\n",
    "    def __init__(self, num_dimensions, bounds):\n",
    "        self.num_dimensions = num_dimensions\n",
    "        self.position = []\n",
    "        self.velocity = []\n",
    "        self.pbest_pos = []\n",
    "        self.pbest_err = -1\n",
    "        self.err = -1\n",
    "\n",
    "        for i in range(0, self.num_dimensions):\n",
    "            self.position.append(random.uniform(bounds[i][0], bounds[i][1]))\n",
    "            self.velocity.append(random.uniform(bounds[i][0], bounds[i][1]))\n",
    "\n",
    "    def evaluate(self, cost_function):\n",
    "        '''\n",
    "        Função que avalia e compara a proximidade de cada uma das partículas em relação ao objetivo\n",
    "        '''\n",
    "        self.err = cost_function(self.position)\n",
    "\n",
    "        if self.err < self.pbest_err or self.pbest_err == -1:\n",
    "            self.pbest_err = self.err\n",
    "            self.pbest_pos = self.position\n",
    "\n",
    "    def update_velocity(self, gbest_pos):\n",
    "        '''\n",
    "        Atualiza a velocidade com base em um \"fator de craziness\", o pbest e o gbest\n",
    "        '''\n",
    "        w = 0.5\n",
    "        c1 = 1\n",
    "        c2 = 1\n",
    "\n",
    "        for i in range(0, self.num_dimensions):\n",
    "            r1 = random.random()\n",
    "            r2 = random.random()\n",
    "\n",
    "            vel_cognitive = c1 * r1 * (self.pbest_pos[i] - self.position[i])\n",
    "            vel_social = c2 * r2 * (gbest_pos[i] - self.position[i])\n",
    "\n",
    "            self.velocity[i] = w * self.velocity[i] + vel_cognitive + vel_social\n",
    "\n",
    "    def update_position(self, bounds):\n",
    "        '''\n",
    "        Atualiza a posição de cada uma das partículas\n",
    "        '''\n",
    "        for i in range(0, self.num_dimensions):\n",
    "            self.position[i] = self.position[i] + self.velocity[i]\n",
    "\n",
    "            if self.position[i] < bounds[i][0]:\n",
    "                self.position[i] = bounds[i][0]\n",
    "\n",
    "            if self.position[i] > bounds[i][1]:\n",
    "                self.position[i] = bounds[i][1]\n",
    "            "
   ]
  },
  {
   "cell_type": "markdown",
   "id": "2aad640e",
   "metadata": {},
   "source": [
    "## Classe PSO"
   ]
  },
  {
   "cell_type": "code",
   "execution_count": 3,
   "id": "e8bce13a",
   "metadata": {},
   "outputs": [],
   "source": [
    "class PSO:\n",
    "\n",
    "    def __init__(self, num_dimensions, cost_function, bounds, num_particles, max_iterations):\n",
    "        '''\n",
    "        Construtor\n",
    "        '''\n",
    "        gbest_err = -1\n",
    "        gbest_pos = []\n",
    "        \n",
    "        PlotUtils.start_plot()\n",
    "        \n",
    "        swarm = []\n",
    "        for i in range(0, num_particles):\n",
    "            swarm.append(Particle(num_dimensions, bounds))\n",
    "\n",
    "        i = 0\n",
    "        while i < max_iterations:\n",
    "            print(f\"i = {i}\\tgbest_pos = {gbest_pos}\\tgbest_err = {gbest_err}\")\n",
    "\n",
    "            for j in range(0, num_particles):\n",
    "                swarm[j].evaluate(cost_function)\n",
    "\n",
    "                if swarm[j].err < gbest_err  or gbest_err == -1:\n",
    "                    gbest_pos = list(swarm[j].position)\n",
    "                    gbest_err = float(swarm[j].err)\n",
    "\n",
    "            for j in range(0, num_particles):\n",
    "                swarm[j].update_velocity(gbest_pos)\n",
    "                swarm[j].update_position(bounds)\n",
    "\n",
    "                PlotUtils.plot_particle(swarm[j])\n",
    "            \n",
    "            PlotUtils.plot_iteration(i)\n",
    "            i += 1\n",
    "\n",
    "\n",
    "        PlotUtils.save()\n",
    "        print(f\"i = {i}\\tgbest_pos = {gbest_pos}\\tgbest_err = {gbest_err}\")"
   ]
  },
  {
   "cell_type": "markdown",
   "id": "a65f76dc",
   "metadata": {},
   "source": [
    "## Classe de Plot"
   ]
  },
  {
   "cell_type": "code",
   "execution_count": 4,
   "id": "ec5ceaf4",
   "metadata": {},
   "outputs": [],
   "source": [
    "from matplotlib import pyplot as plt\n",
    "from PIL import Image\n",
    "import glob\n",
    "import os\n",
    "import shutil\n",
    "\n",
    "class PlotUtils:\n",
    "\n",
    "    directory = \"pso_plots\"\n",
    "    filename = 'pso_cornfield.gif'\n",
    "\n",
    "    @staticmethod\n",
    "    def start_plot():\n",
    "        if os.path.exists(PlotUtils.directory):\n",
    "            shutil.rmtree(PlotUtils.directory)\n",
    "        if not os.path.exists(PlotUtils.directory):\n",
    "            os.makedirs(PlotUtils.directory)\n",
    "\n",
    "    @staticmethod\n",
    "    def plot_particle(particle):\n",
    "        plt.scatter(particle.position[0], particle.position[1])\n",
    "\n",
    "    @staticmethod\n",
    "    def plot_iteration(i):\n",
    "        plt.title(f\"PSO {i}\")\n",
    "        plt.xlim(-20, 20)\n",
    "        plt.ylim(-20, 20)\n",
    "        plt.xlabel('x[0]')\n",
    "        plt.ylabel('x[1]')\n",
    "        iteration = str(i).zfill(5)\n",
    "        plt.savefig(f\"pso_plots/iteration_{iteration}.png\", facecolor = \"white\", dpi = 75)\n",
    "        plt.close()\n",
    "\n",
    "    @staticmethod\n",
    "    def save():\n",
    "        images = [Image.open(f) for f in sorted(glob.glob(PlotUtils.directory+\"/*\"))]\n",
    "        img = images[0]\n",
    "        img.save(fp=PlotUtils.filename, format='GIF', append_images=images, save_all=True, duration=200, loop=0)\n",
    "        if os.path.exists(PlotUtils.directory):\n",
    "            shutil.rmtree(PlotUtils.directory)"
   ]
  },
  {
   "cell_type": "markdown",
   "id": "b20c0807",
   "metadata": {},
   "source": [
    "## Main"
   ]
  },
  {
   "cell_type": "code",
   "execution_count": 5,
   "id": "69cfd27a",
   "metadata": {},
   "outputs": [
    {
     "name": "stdout",
     "output_type": "stream",
     "text": [
      "i = 0\tgbest_pos = []\tgbest_err = -1\n",
      "i = 1\tgbest_pos = [-0.18527398383327665, -0.2033118761330428]\tgbest_err = 0.0378310840310955\n",
      "i = 2\tgbest_pos = [-0.18527398383327665, -0.2033118761330428]\tgbest_err = 0.0378310840310955\n",
      "i = 3\tgbest_pos = [0.20074518051211943, 0.07068638040260034]\tgbest_err = 0.022647595936632268\n",
      "i = 4\tgbest_pos = [0.20074518051211943, 0.07068638040260034]\tgbest_err = 0.022647595936632268\n",
      "i = 5\tgbest_pos = [0.20074518051211943, 0.07068638040260034]\tgbest_err = 0.022647595936632268\n",
      "i = 6\tgbest_pos = [0.20074518051211943, 0.07068638040260034]\tgbest_err = 0.022647595936632268\n",
      "i = 7\tgbest_pos = [0.20074518051211943, 0.07068638040260034]\tgbest_err = 0.022647595936632268\n",
      "i = 8\tgbest_pos = [-0.12954183537327846, 0.12432945090635994]\tgbest_err = 0.01611944973727727\n",
      "i = 9\tgbest_pos = [-0.07456122237108942, -0.010262088553940743]\tgbest_err = 0.0028323431714799836\n",
      "i = 10\tgbest_pos = [-0.061274621201328205, 0.04118772473226276]\tgbest_err = 0.002725503935993455\n",
      "i = 11\tgbest_pos = [-0.014964978362875705, -0.003278002179867401]\tgbest_err = 0.00011734793784627673\n",
      "i = 12\tgbest_pos = [-0.014964978362875705, -0.003278002179867401]\tgbest_err = 0.00011734793784627673\n",
      "i = 13\tgbest_pos = [-0.014964978362875705, -0.003278002179867401]\tgbest_err = 0.00011734793784627673\n",
      "i = 14\tgbest_pos = [-0.010001119332798944, -0.0024401233773037323]\tgbest_err = 5.2988295002674485e-05\n",
      "i = 15\tgbest_pos = [-0.010001119332798944, -0.0024401233773037323]\tgbest_err = 5.2988295002674485e-05\n",
      "i = 16\tgbest_pos = [-0.010001119332798944, -0.0024401233773037323]\tgbest_err = 5.2988295002674485e-05\n",
      "i = 17\tgbest_pos = [0.0018151993517070532, 0.005647084958707388]\tgbest_err = 1.7592258608648466e-05\n",
      "i = 18\tgbest_pos = [0.0018151993517070532, 0.005647084958707388]\tgbest_err = 1.7592258608648466e-05\n",
      "i = 19\tgbest_pos = [-0.004707553553233497, -0.00028404497553220776]\tgbest_err = 1.1120871002343208e-05\n",
      "i = 20\tgbest_pos = [0.0027626107118985154, 0.0012714229703126136]\tgbest_err = 4.624267157467485e-06\n",
      "i = 21\tgbest_pos = [0.0009365398649835079, -0.0014523557015909475]\tgbest_err = 1.4932220013235302e-06\n",
      "i = 22\tgbest_pos = [0.0009365398649835079, -0.0014523557015909475]\tgbest_err = 1.4932220013235302e-06\n",
      "i = 23\tgbest_pos = [-2.0680816659611272e-05, 0.0012273702176482599]\tgbest_err = 7.534326736738226e-07\n",
      "i = 24\tgbest_pos = [0.00030792338300939995, -0.0005856377588289684]\tgbest_err = 2.1889419718508528e-07\n",
      "i = 25\tgbest_pos = [-0.00031564323966384606, 0.0002740723829906793]\tgbest_err = 8.737316293183888e-08\n"
     ]
    }
   ],
   "source": [
    "if __name__ == \"__main__\":\n",
    "    \n",
    "    num_dimensions = 2\n",
    "    cost_function = Utils.function\n",
    "    input_bounds = [(-15, +15), (-15, +15)]\n",
    "    num_particles = 100\n",
    "    max_iterations = 25\n",
    "\n",
    "    PSO(num_dimensions, cost_function, input_bounds, num_particles, max_iterations)"
   ]
  },
  {
   "cell_type": "code",
   "execution_count": null,
   "id": "c920e0da",
   "metadata": {},
   "outputs": [],
   "source": []
  },
  {
   "cell_type": "code",
   "execution_count": null,
   "id": "9c544e08",
   "metadata": {},
   "outputs": [],
   "source": []
  }
 ],
 "metadata": {
  "kernelspec": {
   "display_name": "Python 3 (ipykernel)",
   "language": "python",
   "name": "python3"
  },
  "language_info": {
   "codemirror_mode": {
    "name": "ipython",
    "version": 3
   },
   "file_extension": ".py",
   "mimetype": "text/x-python",
   "name": "python",
   "nbconvert_exporter": "python",
   "pygments_lexer": "ipython3",
   "version": "3.10.2"
  }
 },
 "nbformat": 4,
 "nbformat_minor": 5
}
